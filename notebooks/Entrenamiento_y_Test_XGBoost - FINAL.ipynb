{
 "cells": [
  {
   "cell_type": "code",
   "execution_count": 1,
   "metadata": {},
   "outputs": [
    {
     "name": "stderr",
     "output_type": "stream",
     "text": [
      "Using TensorFlow backend.\n"
     ]
    }
   ],
   "source": [
    "#!pip install xgboost\n",
    "#!pip install pyspark\n",
    "#!pip install plotly\n",
    "#!pip install folium\n",
    "from xgboost import XGBClassifier\n",
    "import sys\n",
    "import folium\n",
    "import json\n",
    "import requests\n",
    "import os\n",
    "import matplotlib.pyplot as plt\n",
    "from datetime import datetime as dt\n",
    "from datetime import timedelta as td\n",
    "from dateutil.relativedelta import relativedelta as rt\n",
    "import pyspark\n",
    "import pandas as pd\n",
    "from plotly import graph_objects as go\n",
    "import numpy as np\n",
    "import seaborn as sns\n",
    "plt.style.use('ggplot')\n",
    "from sklearn.model_selection import GridSearchCV\n",
    "from sklearn.ensemble import RandomForestClassifier\n",
    "import utils\n",
    "import time\n",
    "from sklearn.metrics import classification_report\n",
    "import joblib"
   ]
  },
  {
   "cell_type": "code",
   "execution_count": 2,
   "metadata": {},
   "outputs": [],
   "source": [
    "datatrain_muestra_500=pd.read_csv('C:/Users/Maximiliano/Documents/Big_Data/TESIS_DE_MAESTRIA/Repositorio/mbd-2021-1/data/datasets/datatrain_muestra_500.csv', header=0)\n",
    "datatrain_muestra_300=pd.read_csv('C:/Users/Maximiliano/Documents/Big_Data/TESIS_DE_MAESTRIA/Repositorio/mbd-2021-1/data/datasets/datatrain_muestra_300.csv', header=0)\n",
    "datatrain_muestra_200=pd.read_csv('C:/Users/Maximiliano/Documents/Big_Data/TESIS_DE_MAESTRIA/Repositorio/mbd-2021-1/data/datasets/datatrain_muestra_200.csv', header=0)\n",
    "datatrain_muestra_100=pd.read_csv('C:/Users/Maximiliano/Documents/Big_Data/TESIS_DE_MAESTRIA/Repositorio/mbd-2021-1/data/datasets/datatrain_muestra_100.csv', header=0)\n",
    "\n",
    "dataval_muestra_200=pd.read_csv('C:/Users/Maximiliano/Documents/Big_Data/TESIS_DE_MAESTRIA/Repositorio/mbd-2021-1/data/datasets/dataval_muestra_200.csv', header=0)\n",
    "dataval_muestra_100=pd.read_csv('C:/Users/Maximiliano/Documents/Big_Data/TESIS_DE_MAESTRIA/Repositorio/mbd-2021-1/data/datasets/dataval_muestra_100.csv', header=0)\n",
    "dataval_muestra_60=pd.read_csv('C:/Users/Maximiliano/Documents/Big_Data/TESIS_DE_MAESTRIA/Repositorio/mbd-2021-1/data/datasets/dataval_muestra_60.csv', header=0)\n",
    "dataval_muestra_30=pd.read_csv('C:/Users/Maximiliano/Documents/Big_Data/TESIS_DE_MAESTRIA/Repositorio/mbd-2021-1/data/datasets/dataval_muestra_30.csv', header=0)\n",
    "\n",
    "datatest_muestra_210=pd.read_csv('C:/Users/Maximiliano/Documents/Big_Data/TESIS_DE_MAESTRIA/Repositorio/mbd-2021-1/data/datasets/datatest_muestra_210.csv', header=0)\n",
    "datatest_muestra_120=pd.read_csv('C:/Users/Maximiliano/Documents/Big_Data/TESIS_DE_MAESTRIA/Repositorio/mbd-2021-1/data/datasets/datatest_muestra_120.csv', header=0)\n",
    "datatest_muestra_90=pd.read_csv('C:/Users/Maximiliano/Documents/Big_Data/TESIS_DE_MAESTRIA/Repositorio/mbd-2021-1/data/datasets/datatest_muestra_90.csv', header=0)\n",
    "datatest_muestra_32=pd.read_csv('C:/Users/Maximiliano/Documents/Big_Data/TESIS_DE_MAESTRIA/Repositorio/mbd-2021-1/data/datasets/datatest_muestra_32.csv', header=0)"
   ]
  },
  {
   "cell_type": "code",
   "execution_count": 3,
   "metadata": {
    "id": "UDyUy689540k"
   },
   "outputs": [],
   "source": [
    "X_cols = ['merchant','amt','zip','job','Hora','Edad', 'category_food_dining','category_gas_transport',\n",
    "          'category_grocery_net','category_grocery_pos','category_health_fitness','category_home',\n",
    "          'category_kids_pets','category_misc_net','category_misc_pos','category_personal_care',\n",
    "          'category_shopping_net','category_shopping_pos','category_travel','gender_M','week_Monday',\n",
    "          'week_Saturday','week_Sunday','week_Thursday','week_Tuesday','week_Wednesday', 'distancia_cli_com', \n",
    "          'transacciones_60d','transacciones_24h','monto_prom_trans_60d']\n",
    "\n",
    "Y_cols = ['is_fraud']"
   ]
  },
  {
   "cell_type": "code",
   "execution_count": 4,
   "metadata": {
    "id": "srxdYKPE540l"
   },
   "outputs": [],
   "source": [
    "X_train_500 = datatrain_muestra_500[X_cols]\n",
    "y_train_500 = datatrain_muestra_500[Y_cols]\n",
    "X_val_200 = dataval_muestra_200[X_cols]\n",
    "y_val_200 = dataval_muestra_200[Y_cols]\n",
    "X_test_210 = datatest_muestra_210[X_cols]\n",
    "y_test_210 = datatest_muestra_210[Y_cols]"
   ]
  },
  {
   "cell_type": "code",
   "execution_count": 5,
   "metadata": {},
   "outputs": [],
   "source": [
    "X_train_300 = datatrain_muestra_300[X_cols]\n",
    "y_train_300 = datatrain_muestra_300[Y_cols]\n",
    "X_val_100 = dataval_muestra_100[X_cols]\n",
    "y_val_100 = dataval_muestra_100[Y_cols]\n",
    "X_test_120 = datatest_muestra_120[X_cols]\n",
    "y_test_120 = datatest_muestra_120[Y_cols]"
   ]
  },
  {
   "cell_type": "code",
   "execution_count": 6,
   "metadata": {},
   "outputs": [],
   "source": [
    "X_train_200 = datatrain_muestra_200[X_cols]\n",
    "y_train_200 = datatrain_muestra_200[Y_cols]\n",
    "X_val_60 = dataval_muestra_60[X_cols]\n",
    "y_val_60 = dataval_muestra_60[Y_cols]\n",
    "X_test_90 = datatest_muestra_90[X_cols]\n",
    "y_test_90 = datatest_muestra_90[Y_cols]"
   ]
  },
  {
   "cell_type": "code",
   "execution_count": 7,
   "metadata": {},
   "outputs": [],
   "source": [
    "X_train_100 = datatrain_muestra_100[X_cols]\n",
    "y_train_100 = datatrain_muestra_100[Y_cols]\n",
    "X_val_30 = dataval_muestra_30[X_cols]\n",
    "y_val_30 = dataval_muestra_30[Y_cols]\n",
    "X_test_32 = datatest_muestra_32[X_cols]\n",
    "y_test_32 = datatest_muestra_32[Y_cols]"
   ]
  },
  {
   "cell_type": "code",
   "execution_count": 8,
   "metadata": {
    "colab": {
     "base_uri": "https://localhost:8080/"
    },
    "id": "sSc05L5v540l",
    "outputId": "42a45e61-4acb-4381-9d3e-126afe280950"
   },
   "outputs": [],
   "source": [
    "XGB = XGBClassifier()"
   ]
  },
  {
   "cell_type": "code",
   "execution_count": 9,
   "metadata": {
    "id": "b4zYRat3Vq_n"
   },
   "outputs": [],
   "source": [
    "# Grid de hiperparámetros evaluados\n",
    "# ==============================================================================\n",
    "param_grid_XGBM = {'max_depth'        : [None, 1, 3, 5, 10],\n",
    "                   'subsample'        : [0.5, 1],\n",
    "                   'learning_rate'    : [0.001, 0.01, 0.1],\n",
    "                   'n_estimators'     : [200, 300, 500]}"
   ]
  },
  {
   "cell_type": "code",
   "execution_count": 10,
   "metadata": {
    "id": "A4n4FQKB540m"
   },
   "outputs": [],
   "source": [
    "#XGBM_GRID_BUSQUEDA = GridSearchCV(estimator=XGB, param_grid=param_grid_XGBM, cv = 3, verbose=1, n_jobs = -1)"
   ]
  },
  {
   "cell_type": "code",
   "execution_count": 11,
   "metadata": {
    "id": "MrjdCA5f540m"
   },
   "outputs": [],
   "source": [
    "#RFC_GRID_BUSQUEDA.fit(X_train, y_train)\n",
    "#XGBM_GRID_BUSQUEDA_500=XGBM_GRID_BUSQUEDA.fit(X_train_500, y_train_500)\n",
    "#XGBM_GRID_BUSQUEDA_300=XGBM_GRID_BUSQUEDA.fit(X_train_300, y_train_300)\n",
    "#XGBM_GRID_BUSQUEDA_200=XGBM_GRID_BUSQUEDA.fit(X_train_200, y_train_200)\n",
    "#XGBM_GRID_BUSQUEDA_100=XGBM_GRID_BUSQUEDA.fit(X_train_100, y_train_100)"
   ]
  },
  {
   "cell_type": "code",
   "execution_count": 12,
   "metadata": {},
   "outputs": [],
   "source": [
    "#print(XGBM_GRID_BUSQUEDA_500.best_params_)\n",
    "#print(XGBM_GRID_BUSQUEDA_300.best_params_)\n",
    "#print(XGBM_GRID_BUSQUEDA_200.best_params_)\n",
    "#print(XGBM_GRID_BUSQUEDA_100.best_params_)"
   ]
  },
  {
   "cell_type": "code",
   "execution_count": 13,
   "metadata": {},
   "outputs": [
    {
     "data": {
      "text/plain": [
       "'2021-11-22 07:58:00'"
      ]
     },
     "execution_count": 13,
     "metadata": {},
     "output_type": "execute_result"
    }
   ],
   "source": [
    "time.strftime('%Y-%m-%d %H:%M:%S', time.localtime())"
   ]
  },
  {
   "cell_type": "code",
   "execution_count": 14,
   "metadata": {
    "scrolled": true
   },
   "outputs": [
    {
     "name": "stderr",
     "output_type": "stream",
     "text": [
      "C:\\ProgramData\\Anaconda3\\lib\\site-packages\\xgboost\\sklearn.py:1146: UserWarning: The use of label encoder in XGBClassifier is deprecated and will be removed in a future release. To remove this warning, do the following: 1) Pass option use_label_encoder=False when constructing XGBClassifier object; and 2) Encode your labels (y) as integers starting with 0, i.e. 0, 1, 2, ..., [num_class - 1].\n",
      "  warnings.warn(label_encoder_deprecation_msg, UserWarning)\n",
      "C:\\Users\\Maximiliano\\AppData\\Roaming\\Python\\Python37\\site-packages\\sklearn\\utils\\validation.py:63: DataConversionWarning: A column-vector y was passed when a 1d array was expected. Please change the shape of y to (n_samples, ), for example using ravel().\n",
      "  return f(*args, **kwargs)\n"
     ]
    },
    {
     "name": "stdout",
     "output_type": "stream",
     "text": [
      "[07:58:02] WARNING: C:/Users/Administrator/workspace/xgboost-win64_release_1.4.0/src/learner.cc:1095: Starting in XGBoost 1.3.0, the default evaluation metric used with the objective 'binary:logistic' was changed from 'error' to 'logloss'. Explicitly set eval_metric if you'd like to restore the old behavior.\n"
     ]
    },
    {
     "data": {
      "text/plain": [
       "XGBClassifier(base_score=0.5, booster='gbtree', colsample_bylevel=1,\n",
       "              colsample_bynode=1, colsample_bytree=1, gamma=0, gpu_id=-1,\n",
       "              importance_type='gain', interaction_constraints='',\n",
       "              learning_rate=0.1, max_delta_step=0, max_depth=10,\n",
       "              min_child_weight=1, missing=nan, monotone_constraints='()',\n",
       "              n_estimators=500, n_jobs=8, num_parallel_tree=1, random_state=0,\n",
       "              reg_alpha=0, reg_lambda=1, scale_pos_weight=1, subsample=0.5,\n",
       "              tree_method='exact', validate_parameters=1, verbosity=None)"
      ]
     },
     "execution_count": 14,
     "metadata": {},
     "output_type": "execute_result"
    }
   ],
   "source": [
    "XGBM = XGBClassifier(learning_rate=0.1, max_depth=10, n_estimators=500, subsample=0.5)\n",
    "XGBM.fit(X_train_500, y_train_500)"
   ]
  },
  {
   "cell_type": "code",
   "execution_count": 15,
   "metadata": {},
   "outputs": [
    {
     "data": {
      "text/plain": [
       "'2021-11-22 08:03:29'"
      ]
     },
     "execution_count": 15,
     "metadata": {},
     "output_type": "execute_result"
    }
   ],
   "source": [
    "time.strftime('%Y-%m-%d %H:%M:%S', time.localtime())"
   ]
  },
  {
   "cell_type": "code",
   "execution_count": 16,
   "metadata": {},
   "outputs": [],
   "source": [
    "#predicción con datos de validación\n",
    "XGBM_PRED_VAL = XGBM.predict(X_val_200)"
   ]
  },
  {
   "cell_type": "code",
   "execution_count": 17,
   "metadata": {
    "scrolled": true
   },
   "outputs": [
    {
     "name": "stdout",
     "output_type": "stream",
     "text": [
      "              precision    recall  f1-score   support\n",
      "\n",
      "           0       1.00      1.00      1.00    198825\n",
      "           1       0.87      0.93      0.90      1175\n",
      "\n",
      "    accuracy                           1.00    200000\n",
      "   macro avg       0.93      0.96      0.95    200000\n",
      "weighted avg       1.00      1.00      1.00    200000\n",
      "\n"
     ]
    }
   ],
   "source": [
    "print(classification_report(y_val_200, XGBM_PRED_VAL))"
   ]
  },
  {
   "cell_type": "code",
   "execution_count": 18,
   "metadata": {},
   "outputs": [
    {
     "data": {
      "image/png": "[encoded data removed]",
      "text/plain": [
       "<Figure size 360x360 with 1 Axes>"
      ]
     },
     "metadata": {
      "needs_background": "light"
     },
     "output_type": "display_data"
    }
   ],
   "source": [
    "utils.plot_cm(y_val_200, XGBM_PRED_VAL)"
   ]
  },
  {
   "cell_type": "markdown",
   "metadata": {},
   "source": [
    "PREDICCIÓN PARA DATOS DE TEST"
   ]
  },
  {
   "cell_type": "code",
   "execution_count": 19,
   "metadata": {},
   "outputs": [
    {
     "data": {
      "text/plain": [
       "'2021-11-22 08:03:31'"
      ]
     },
     "execution_count": 19,
     "metadata": {},
     "output_type": "execute_result"
    }
   ],
   "source": [
    "time.strftime('%Y-%m-%d %H:%M:%S', time.localtime())"
   ]
  },
  {
   "cell_type": "code",
   "execution_count": 20,
   "metadata": {},
   "outputs": [],
   "source": [
    "XGBM_PRED = XGBM.predict(X_test_210)"
   ]
  },
  {
   "cell_type": "code",
   "execution_count": 21,
   "metadata": {},
   "outputs": [
    {
     "data": {
      "text/plain": [
       "'2021-11-22 08:03:32'"
      ]
     },
     "execution_count": 21,
     "metadata": {},
     "output_type": "execute_result"
    }
   ],
   "source": [
    "time.strftime('%Y-%m-%d %H:%M:%S', time.localtime())"
   ]
  },
  {
   "cell_type": "code",
   "execution_count": 22,
   "metadata": {},
   "outputs": [
    {
     "name": "stdout",
     "output_type": "stream",
     "text": [
      "              precision    recall  f1-score   support\n",
      "\n",
      "           0       1.00      1.00      1.00    209189\n",
      "           1       0.74      0.86      0.79       811\n",
      "\n",
      "    accuracy                           1.00    210000\n",
      "   macro avg       0.87      0.93      0.90    210000\n",
      "weighted avg       1.00      1.00      1.00    210000\n",
      "\n"
     ]
    }
   ],
   "source": [
    "print(classification_report(y_test_210, XGBM_PRED))"
   ]
  },
  {
   "cell_type": "code",
   "execution_count": 23,
   "metadata": {},
   "outputs": [
    {
     "data": {
      "image/png": "[encoded data removed]",
      "text/plain": [
       "<Figure size 360x360 with 1 Axes>"
      ]
     },
     "metadata": {
      "needs_background": "light"
     },
     "output_type": "display_data"
    }
   ],
   "source": [
    "utils.plot_cm(y_test_210, XGBM_PRED)"
   ]
  },
  {
   "cell_type": "code",
   "execution_count": 24,
   "metadata": {},
   "outputs": [
    {
     "data": {
      "text/plain": [
       "['XGBM_2.joblib']"
      ]
     },
     "execution_count": 24,
     "metadata": {},
     "output_type": "execute_result"
    }
   ],
   "source": [
    "joblib.dump(XGBM, 'XGBM_2.joblib') # Guardo el modelo."
   ]
  },
  {
   "cell_type": "code",
   "execution_count": 25,
   "metadata": {},
   "outputs": [],
   "source": [
    "XGBM_ALTA = joblib.load('XGBM_2.joblib')\n",
    "\n",
    "XGBM_predictions_120 = XGBM_ALTA.predict(X_test_120)\n",
    "XGBM_predictions_90 = XGBM_ALTA.predict(X_test_90)\n",
    "XGBM_predictions_32 = XGBM_ALTA.predict(X_test_32)"
   ]
  },
  {
   "cell_type": "code",
   "execution_count": 26,
   "metadata": {
    "scrolled": false
   },
   "outputs": [
    {
     "name": "stdout",
     "output_type": "stream",
     "text": [
      "              precision    recall  f1-score   support\n",
      "\n",
      "           0       1.00      1.00      1.00    119545\n",
      "           1       0.74      0.85      0.79       455\n",
      "\n",
      "    accuracy                           1.00    120000\n",
      "   macro avg       0.87      0.93      0.90    120000\n",
      "weighted avg       1.00      1.00      1.00    120000\n",
      "\n",
      "              precision    recall  f1-score   support\n",
      "\n",
      "           0       1.00      1.00      1.00     89650\n",
      "           1       0.74      0.87      0.80       350\n",
      "\n",
      "    accuracy                           1.00     90000\n",
      "   macro avg       0.87      0.93      0.90     90000\n",
      "weighted avg       1.00      1.00      1.00     90000\n",
      "\n",
      "              precision    recall  f1-score   support\n",
      "\n",
      "           0       1.00      1.00      1.00     31887\n",
      "           1       0.72      0.85      0.78       113\n",
      "\n",
      "    accuracy                           1.00     32000\n",
      "   macro avg       0.86      0.92      0.89     32000\n",
      "weighted avg       1.00      1.00      1.00     32000\n",
      "\n"
     ]
    }
   ],
   "source": [
    "print(classification_report(y_test_120, XGBM_predictions_120))\n",
    "print(classification_report(y_test_90, XGBM_predictions_90))\n",
    "print(classification_report(y_test_32, XGBM_predictions_32))"
   ]
  },
  {
   "cell_type": "code",
   "execution_count": 27,
   "metadata": {
    "scrolled": true
   },
   "outputs": [
    {
     "data": {
      "image/png": "[encoded data removed]",
      "text/plain": [
       "<Figure size 360x360 with 1 Axes>"
      ]
     },
     "metadata": {
      "needs_background": "light"
     },
     "output_type": "display_data"
    },
    {
     "data": {
      "image/png": "[encoded data removed]",
      "text/plain": [
       "<Figure size 360x360 with 1 Axes>"
      ]
     },
     "metadata": {
      "needs_background": "light"
     },
     "output_type": "display_data"
    },
    {
     "data": {
      "image/png": "[encoded data removed]",
      "text/plain": [
       "<Figure size 360x360 with 1 Axes>"
      ]
     },
     "metadata": {
      "needs_background": "light"
     },
     "output_type": "display_data"
    }
   ],
   "source": [
    "utils.plot_cm(y_test_120, XGBM_predictions_120)\n",
    "utils.plot_cm(y_test_90, XGBM_predictions_90)\n",
    "utils.plot_cm(y_test_32, XGBM_predictions_32)"
   ]
  },
  {
   "cell_type": "markdown",
   "metadata": {},
   "source": [
    "IMPORTANCIA DE LAS VARIABLES"
   ]
  },
  {
   "cell_type": "code",
   "execution_count": 28,
   "metadata": {},
   "outputs": [
    {
     "data": {
      "text/plain": [
       "'#por pureza de NODOS\\nimportancia_predictores = pd.DataFrame(\\n                            {\\'predictor\\': X_train_500.columns,\\n                             \\'importancia\\': XGBM_ALTA.feature_importances_}\\n                            )\\nprint(\"Importancia de los predictores en el modelo\")\\nprint(\"-------------------------------------------\")\\nimportancia_predictores.sort_values(\\'importancia\\', ascending=False)'"
      ]
     },
     "execution_count": 28,
     "metadata": {},
     "output_type": "execute_result"
    }
   ],
   "source": [
    "'''#por pureza de NODOS\n",
    "importancia_predictores = pd.DataFrame(\n",
    "                            {'predictor': X_train_500.columns,\n",
    "                             'importancia': XGBM_ALTA.feature_importances_}\n",
    "                            )\n",
    "print(\"Importancia de los predictores en el modelo\")\n",
    "print(\"-------------------------------------------\")\n",
    "importancia_predictores.sort_values('importancia', ascending=False)'''"
   ]
  },
  {
   "cell_type": "code",
   "execution_count": 29,
   "metadata": {},
   "outputs": [
    {
     "data": {
      "text/plain": [
       "\"from sklearn.inspection import permutation_importance\\nimport multiprocessing\\n#por permutación\\nimportancia = permutation_importance(\\n                estimator    = XGBM_ALTA,\\n                X            = X_train_500,\\n                y            = y_train_500,\\n                n_repeats    = 5,\\n                scoring      = 'neg_root_mean_squared_error',\\n                n_jobs       = multiprocessing.cpu_count() - 1,\\n                random_state = 123\\n             )\\n\\n# Se almacenan los resultados (media y desviación) en un dataframe\\ndf_importancia = pd.DataFrame(\\n                    {k: importancia[k] for k in ['importances_mean', 'importances_std']}\\n                 )\\ndf_importancia['feature'] = X_train_500.columns\\ndf_importancia.sort_values('importances_mean', ascending=False)\""
      ]
     },
     "execution_count": 29,
     "metadata": {},
     "output_type": "execute_result"
    }
   ],
   "source": [
    "'''from sklearn.inspection import permutation_importance\n",
    "import multiprocessing\n",
    "#por permutación\n",
    "importancia = permutation_importance(\n",
    "                estimator    = XGBM_ALTA,\n",
    "                X            = X_train_500,\n",
    "                y            = y_train_500,\n",
    "                n_repeats    = 5,\n",
    "                scoring      = 'neg_root_mean_squared_error',\n",
    "                n_jobs       = multiprocessing.cpu_count() - 1,\n",
    "                random_state = 123\n",
    "             )\n",
    "\n",
    "# Se almacenan los resultados (media y desviación) en un dataframe\n",
    "df_importancia = pd.DataFrame(\n",
    "                    {k: importancia[k] for k in ['importances_mean', 'importances_std']}\n",
    "                 )\n",
    "df_importancia['feature'] = X_train_500.columns\n",
    "df_importancia.sort_values('importances_mean', ascending=False)'''"
   ]
  }
 ],
 "metadata": {
  "colab": {
   "collapsed_sections": [],
   "name": "Tesis_de_Maestría_FINAL_2-checkpoint.ipynb",
   "provenance": []
  },
  "kernelspec": {
   "display_name": "Python 3",
   "language": "python",
   "name": "python3"
  },
  "language_info": {
   "codemirror_mode": {
    "name": "ipython",
    "version": 3
   },
   "file_extension": ".py",
   "mimetype": "text/x-python",
   "name": "python",
   "nbconvert_exporter": "python",
   "pygments_lexer": "ipython3",
   "version": "3.7.3"
  }
 },
 "nbformat": 4,
 "nbformat_minor": 1
}
