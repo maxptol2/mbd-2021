{
 "cells": [
  {
   "cell_type": "code",
   "execution_count": 1,
   "metadata": {
    "colab": {
     "base_uri": "https://localhost:8080/"
    },
    "id": "ukidn-Q8FIsx",
    "outputId": "fc584515-7909-4312-940a-a220470dd36c"
   },
   "outputs": [],
   "source": [
    "#from google.colab import drive\n",
    "#drive.mount('/content/drive')"
   ]
  },
  {
   "cell_type": "code",
   "execution_count": 2,
   "metadata": {
    "colab": {
     "base_uri": "https://localhost:8080/"
    },
    "id": "tPoaTat9HFh0",
    "outputId": "10f98d61-9eb9-4b8b-f065-970f3b1c0958"
   },
   "outputs": [],
   "source": [
    "#!ls \"/content/drive/MyDrive/TESIS MAESTRIA BIG DATA\""
   ]
  },
  {
   "cell_type": "code",
   "execution_count": 3,
   "metadata": {},
   "outputs": [
    {
     "name": "stdout",
     "output_type": "stream",
     "text": [
      "Requirement already satisfied: xgboost in c:\\programdata\\anaconda3\\lib\\site-packages (1.4.2)\n",
      "Requirement already satisfied: numpy in c:\\programdata\\anaconda3\\lib\\site-packages (from xgboost) (1.16.4)\n",
      "Requirement already satisfied: scipy in c:\\programdata\\anaconda3\\lib\\site-packages (from xgboost) (1.2.1)\n"
     ]
    },
    {
     "name": "stderr",
     "output_type": "stream",
     "text": [
      "WARNING: pip is being invoked by an old script wrapper. This will fail in a future version of pip.\n",
      "Please see https://github.com/pypa/pip/issues/5599 for advice on fixing the underlying issue.\n",
      "To avoid this problem you can invoke Python with '-m pip' instead of running pip directly.\n",
      "WARNING: Ignoring invalid distribution -mportlib-metadata (c:\\programdata\\anaconda3\\lib\\site-packages)\n",
      "WARNING: Ignoring invalid distribution -mportlib-metadata (c:\\programdata\\anaconda3\\lib\\site-packages)\n",
      "WARNING: You are using pip version 21.1.3; however, version 21.2.4 is available.\n",
      "You should consider upgrading via the 'C:\\ProgramData\\Anaconda3\\python.exe -m pip install --upgrade pip' command.\n"
     ]
    },
    {
     "name": "stdout",
     "output_type": "stream",
     "text": [
      "Requirement already satisfied: pyspark in c:\\programdata\\anaconda3\\lib\\site-packages (2.4.3)\n",
      "Requirement already satisfied: py4j==0.10.7 in c:\\programdata\\anaconda3\\lib\\site-packages (from pyspark) (0.10.7)\n"
     ]
    },
    {
     "name": "stderr",
     "output_type": "stream",
     "text": [
      "WARNING: pip is being invoked by an old script wrapper. This will fail in a future version of pip.\n",
      "Please see https://github.com/pypa/pip/issues/5599 for advice on fixing the underlying issue.\n",
      "To avoid this problem you can invoke Python with '-m pip' instead of running pip directly.\n",
      "WARNING: Ignoring invalid distribution -mportlib-metadata (c:\\programdata\\anaconda3\\lib\\site-packages)\n",
      "WARNING: Ignoring invalid distribution -mportlib-metadata (c:\\programdata\\anaconda3\\lib\\site-packages)\n",
      "WARNING: You are using pip version 21.1.3; however, version 21.2.4 is available.\n",
      "You should consider upgrading via the 'C:\\ProgramData\\Anaconda3\\python.exe -m pip install --upgrade pip' command.\n"
     ]
    },
    {
     "name": "stdout",
     "output_type": "stream",
     "text": [
      "Requirement already satisfied: plotly in c:\\programdata\\anaconda3\\lib\\site-packages (4.14.3)\n",
      "Requirement already satisfied: retrying>=1.3.3 in c:\\programdata\\anaconda3\\lib\\site-packages (from plotly) (1.3.3)\n",
      "Requirement already satisfied: six in c:\\programdata\\anaconda3\\lib\\site-packages (from plotly) (1.12.0)\n"
     ]
    },
    {
     "name": "stderr",
     "output_type": "stream",
     "text": [
      "WARNING: pip is being invoked by an old script wrapper. This will fail in a future version of pip.\n",
      "Please see https://github.com/pypa/pip/issues/5599 for advice on fixing the underlying issue.\n",
      "To avoid this problem you can invoke Python with '-m pip' instead of running pip directly.\n",
      "WARNING: Ignoring invalid distribution -mportlib-metadata (c:\\programdata\\anaconda3\\lib\\site-packages)\n",
      "WARNING: Ignoring invalid distribution -mportlib-metadata (c:\\programdata\\anaconda3\\lib\\site-packages)\n",
      "WARNING: You are using pip version 21.1.3; however, version 21.2.4 is available.\n",
      "You should consider upgrading via the 'C:\\ProgramData\\Anaconda3\\python.exe -m pip install --upgrade pip' command.\n"
     ]
    },
    {
     "name": "stdout",
     "output_type": "stream",
     "text": [
      "Requirement already satisfied: folium in c:\\programdata\\anaconda3\\lib\\site-packages (0.12.1)\n",
      "Requirement already satisfied: requests in c:\\programdata\\anaconda3\\lib\\site-packages (from folium) (2.22.0)\n",
      "Requirement already satisfied: numpy in c:\\programdata\\anaconda3\\lib\\site-packages (from folium) (1.16.4)\n",
      "Requirement already satisfied: branca>=0.3.0 in c:\\programdata\\anaconda3\\lib\\site-packages (from folium) (0.4.2)\n",
      "Requirement already satisfied: jinja2>=2.9 in c:\\programdata\\anaconda3\\lib\\site-packages (from folium) (2.10.1)\n",
      "Requirement already satisfied: MarkupSafe>=0.23 in c:\\programdata\\anaconda3\\lib\\site-packages (from jinja2>=2.9->folium) (1.1.1)\n",
      "Requirement already satisfied: certifi>=2017.4.17 in c:\\programdata\\anaconda3\\lib\\site-packages (from requests->folium) (2019.6.16)\n",
      "Requirement already satisfied: chardet<3.1.0,>=3.0.2 in c:\\programdata\\anaconda3\\lib\\site-packages (from requests->folium) (3.0.4)\n",
      "Requirement already satisfied: urllib3!=1.25.0,!=1.25.1,<1.26,>=1.21.1 in c:\\programdata\\anaconda3\\lib\\site-packages (from requests->folium) (1.24.2)\n",
      "Requirement already satisfied: idna<2.9,>=2.5 in c:\\programdata\\anaconda3\\lib\\site-packages (from requests->folium) (2.8)\n"
     ]
    },
    {
     "name": "stderr",
     "output_type": "stream",
     "text": [
      "WARNING: pip is being invoked by an old script wrapper. This will fail in a future version of pip.\n",
      "Please see https://github.com/pypa/pip/issues/5599 for advice on fixing the underlying issue.\n",
      "To avoid this problem you can invoke Python with '-m pip' instead of running pip directly.\n",
      "WARNING: Ignoring invalid distribution -mportlib-metadata (c:\\programdata\\anaconda3\\lib\\site-packages)\n",
      "WARNING: Ignoring invalid distribution -mportlib-metadata (c:\\programdata\\anaconda3\\lib\\site-packages)\n",
      "WARNING: You are using pip version 21.1.3; however, version 21.2.4 is available.\n",
      "You should consider upgrading via the 'C:\\ProgramData\\Anaconda3\\python.exe -m pip install --upgrade pip' command.\n",
      "Using TensorFlow backend.\n"
     ]
    }
   ],
   "source": [
    "#!pip install skranger\n",
    "!pip install xgboost\n",
    "!pip install pyspark\n",
    "!pip install plotly\n",
    "!pip install folium\n",
    "from xgboost import XGBClassifier\n",
    "import sys\n",
    "import folium\n",
    "import json\n",
    "import requests\n",
    "import os\n",
    "import matplotlib.pyplot as plt\n",
    "from datetime import datetime as dt\n",
    "from datetime import timedelta as td\n",
    "from dateutil.relativedelta import relativedelta as rt\n",
    "import pyspark\n",
    "import pandas as pd\n",
    "from plotly import graph_objects as go\n",
    "import numpy as np\n",
    "import seaborn as sns\n",
    "plt.style.use('ggplot')\n",
    "from sklearn.model_selection import GridSearchCV\n",
    "from sklearn.ensemble import RandomForestClassifier\n",
    "import utils"
   ]
  },
  {
   "cell_type": "code",
   "execution_count": 4,
   "metadata": {},
   "outputs": [],
   "source": [
    "datatrain_muestra_500=pd.read_csv('C:/Users/Maximiliano/Documents/Big_Data/TESIS_DE_MAESTRIA/Repositorio/mbd-2021-1/data/datasets/datatrain_muestra_500.csv', header=0)\n",
    "datatrain_muestra_300=pd.read_csv('C:/Users/Maximiliano/Documents/Big_Data/TESIS_DE_MAESTRIA/Repositorio/mbd-2021-1/data/datasets/datatrain_muestra_300.csv', header=0)\n",
    "datatrain_muestra_200=pd.read_csv('C:/Users/Maximiliano/Documents/Big_Data/TESIS_DE_MAESTRIA/Repositorio/mbd-2021-1/data/datasets/datatrain_muestra_200.csv', header=0)\n",
    "datatrain_muestra_100=pd.read_csv('C:/Users/Maximiliano/Documents/Big_Data/TESIS_DE_MAESTRIA/Repositorio/mbd-2021-1/data/datasets/datatrain_muestra_100.csv', header=0)\n",
    "\n",
    "dataval_muestra_250=pd.read_csv('C:/Users/Maximiliano/Documents/Big_Data/TESIS_DE_MAESTRIA/Repositorio/mbd-2021-1/data/datasets/dataval_muestra_250.csv', header=0)\n",
    "dataval_muestra_150=pd.read_csv('C:/Users/Maximiliano/Documents/Big_Data/TESIS_DE_MAESTRIA/Repositorio/mbd-2021-1/data/datasets/dataval_muestra_150.csv', header=0)\n",
    "dataval_muestra_100=pd.read_csv('C:/Users/Maximiliano/Documents/Big_Data/TESIS_DE_MAESTRIA/Repositorio/mbd-2021-1/data/datasets/dataval_muestra_100.csv', header=0)\n",
    "dataval_muestra_50=pd.read_csv('C:/Users/Maximiliano/Documents/Big_Data/TESIS_DE_MAESTRIA/Repositorio/mbd-2021-1/data/datasets/dataval_muestra_50.csv', header=0)\n",
    "\n",
    "datatest_muestra_210=pd.read_csv('C:/Users/Maximiliano/Documents/Big_Data/TESIS_DE_MAESTRIA/Repositorio/mbd-2021-1/data/datasets/datatest_muestra_210.csv', header=0)\n",
    "datatest_muestra_120=pd.read_csv('C:/Users/Maximiliano/Documents/Big_Data/TESIS_DE_MAESTRIA/Repositorio/mbd-2021-1/data/datasets/datatest_muestra_120.csv', header=0)\n",
    "datatest_muestra_90=pd.read_csv('C:/Users/Maximiliano/Documents/Big_Data/TESIS_DE_MAESTRIA/Repositorio/mbd-2021-1/data/datasets/datatest_muestra_90.csv', header=0)\n",
    "datatest_muestra_32=pd.read_csv('C:/Users/Maximiliano/Documents/Big_Data/TESIS_DE_MAESTRIA/Repositorio/mbd-2021-1/data/datasets/datatest_muestra_32.csv', header=0)"
   ]
  },
  {
   "cell_type": "code",
   "execution_count": 5,
   "metadata": {
    "id": "UDyUy689540k"
   },
   "outputs": [],
   "source": [
    "X_cols = ['merchant','amt','zip',\n",
    "          'job','Hora','Edad', 'category_food_dining', \n",
    "          'category_gas_transport','category_grocery_net','category_grocery_pos',\n",
    "          'category_health_fitness','category_home','category_kids_pets','category_misc_net',\n",
    "          'category_misc_pos','category_personal_care','category_shopping_net','category_shopping_pos',\n",
    "          'category_travel','gender_M','week_Monday','week_Saturday','week_Sunday','week_Thursday',\n",
    "          'week_Tuesday','week_Wednesday', 'dist', 'hist_trans_60d','hist_trans_24h','hist_fraud_trans_24h','hist_trans_amt_avg_60d']\n",
    "\n",
    "Y_cols = ['is_fraud']"
   ]
  },
  {
   "cell_type": "code",
   "execution_count": 6,
   "metadata": {
    "id": "srxdYKPE540l"
   },
   "outputs": [],
   "source": [
    "X_train_500 = datatrain_muestra_500[X_cols]\n",
    "y_train_500 = datatrain_muestra_500[Y_cols]\n",
    "X_val_250 = dataval_muestra_250[X_cols]\n",
    "y_val_250 = dataval_muestra_250[Y_cols]\n",
    "X_test_210 = datatest_muestra_210[X_cols]\n",
    "y_test_210 = datatest_muestra_210[Y_cols]"
   ]
  },
  {
   "cell_type": "code",
   "execution_count": 7,
   "metadata": {},
   "outputs": [],
   "source": [
    "X_train_300 = datatrain_muestra_300[X_cols]\n",
    "y_train_300 = datatrain_muestra_300[Y_cols]\n",
    "X_val_150 = dataval_muestra_150[X_cols]\n",
    "y_val_150 = dataval_muestra_150[Y_cols]\n",
    "X_test_120 = datatest_muestra_120[X_cols]\n",
    "y_test_120 = datatest_muestra_120[Y_cols]"
   ]
  },
  {
   "cell_type": "code",
   "execution_count": 8,
   "metadata": {},
   "outputs": [],
   "source": [
    "X_train_200 = datatrain_muestra_200[X_cols]\n",
    "y_train_200 = datatrain_muestra_200[Y_cols]\n",
    "X_val_100 = dataval_muestra_100[X_cols]\n",
    "y_val_100 = dataval_muestra_100[Y_cols]\n",
    "X_test_90 = datatest_muestra_90[X_cols]\n",
    "y_test_90 = datatest_muestra_90[Y_cols]"
   ]
  },
  {
   "cell_type": "code",
   "execution_count": 9,
   "metadata": {},
   "outputs": [],
   "source": [
    "X_train_100 = datatrain_muestra_100[X_cols]\n",
    "y_train_100 = datatrain_muestra_100[Y_cols]\n",
    "X_val_50 = dataval_muestra_50[X_cols]\n",
    "y_val_50 = dataval_muestra_50[Y_cols]\n",
    "X_test_32 = datatest_muestra_32[X_cols]\n",
    "y_test_32 = datatest_muestra_32[Y_cols]"
   ]
  },
  {
   "cell_type": "code",
   "execution_count": 10,
   "metadata": {
    "colab": {
     "base_uri": "https://localhost:8080/"
    },
    "id": "sSc05L5v540l",
    "outputId": "42a45e61-4acb-4381-9d3e-126afe280950"
   },
   "outputs": [
    {
     "data": {
      "text/plain": [
       "{'n_estimators': [200, 300, 500],\n",
       " 'max_features': ['auto', 'sqrt'],\n",
       " 'max_depth': [None, 10, 20, 50],\n",
       " 'min_samples_split': [5, 20, 50],\n",
       " 'min_samples_leaf': [1, 2, 4, 20],\n",
       " 'bootstrap': [True, False]}"
      ]
     },
     "execution_count": 10,
     "metadata": {},
     "output_type": "execute_result"
    }
   ],
   "source": [
    "RFC = RandomForestClassifier()\n",
    "\n",
    "\n",
    "# Número de árboles a realizar.\n",
    "n_estimators = [200, 300, 500]\n",
    "\n",
    "# número máximo de características consideradas para dividir un nodo\n",
    "max_features = ['auto', 'sqrt']\n",
    "\n",
    "# Número máximo de niveles en cada árbol de decisión\n",
    "max_depth = [None,10, 20, 50]\n",
    "\n",
    "# Número mínimo de muestras necesarias para dividir un nodo\n",
    "min_samples_split = [5, 20, 50]\n",
    "\n",
    "# Número mínimo de muestras necesarias en cada nodo hoja\n",
    "min_samples_leaf = [1, 2, 4, 20]\n",
    "\n",
    "# Método para muestrear puntos de datos (con o sin reemplazo)\n",
    "bootstrap = [True, False]\n",
    "\n",
    "# Creando el grid\n",
    "RFC_grid = {'n_estimators': n_estimators,'max_features': max_features, 'max_depth': max_depth, \n",
    "            'min_samples_split': min_samples_split,'min_samples_leaf': min_samples_leaf, 'bootstrap': bootstrap}\n",
    "\n",
    "RFC_grid"
   ]
  },
  {
   "cell_type": "code",
   "execution_count": 11,
   "metadata": {
    "id": "A4n4FQKB540m"
   },
   "outputs": [],
   "source": [
    "#RFC_GRID_BUSQUEDA = GridSearchCV(estimator=RFC, param_grid=RFC_grid, cv = 3, verbose=1, n_jobs = -1)"
   ]
  },
  {
   "cell_type": "code",
   "execution_count": 12,
   "metadata": {
    "id": "MrjdCA5f540m"
   },
   "outputs": [],
   "source": [
    "#RFC_GRID_BUSQUEDA_500=RFC_GRID_BUSQUEDA.fit(X_train_500, y_train_500)\n",
    "#RFC_GRID_BUSQUEDA_300=RFC_GRID_BUSQUEDA.fit(X_train_300, y_train_300)\n",
    "#RFC_GRID_BUSQUEDA_200=RFC_GRID_BUSQUEDA.fit(X_train_200, y_train_200)\n",
    "#RFC_GRID_BUSQUEDA_100=RFC_GRID_BUSQUEDA.fit(X_train_100, y_train_100)"
   ]
  },
  {
   "cell_type": "code",
   "execution_count": 13,
   "metadata": {},
   "outputs": [],
   "source": [
    "#print(RFC_GRID_BUSQUEDA_500.best_params_)\n",
    "#print(RFC_GRID_BUSQUEDA_300.best_params_)\n",
    "#print(RFC_GRID_BUSQUEDA_200.best_params_)\n",
    "#print(RFC_GRID_BUSQUEDA_100.best_params_)"
   ]
  },
  {
   "cell_type": "code",
   "execution_count": 14,
   "metadata": {},
   "outputs": [
    {
     "name": "stderr",
     "output_type": "stream",
     "text": [
      "C:\\ProgramData\\Anaconda3\\lib\\site-packages\\ipykernel_launcher.py:3: DataConversionWarning: A column-vector y was passed when a 1d array was expected. Please change the shape of y to (n_samples,), for example using ravel().\n",
      "  This is separate from the ipykernel package so we can avoid doing imports until\n"
     ]
    },
    {
     "data": {
      "text/plain": [
       "RandomForestClassifier(class_weight='balanced', min_samples_split=5,\n",
       "                       n_estimators=200)"
      ]
     },
     "execution_count": 14,
     "metadata": {},
     "output_type": "execute_result"
    }
   ],
   "source": [
    "RF_500 = RandomForestClassifier(bootstrap=True, min_samples_split=5,\n",
    "                       n_estimators=200, class_weight= 'balanced')\n",
    "RF_500.fit(X_train_500, y_train_500)"
   ]
  },
  {
   "cell_type": "code",
   "execution_count": 15,
   "metadata": {},
   "outputs": [],
   "source": [
    "RFC_PRED = RF_500.predict(X_test_210)"
   ]
  },
  {
   "cell_type": "code",
   "execution_count": 16,
   "metadata": {},
   "outputs": [
    {
     "name": "stdout",
     "output_type": "stream",
     "text": [
      "              precision    recall  f1-score   support\n",
      "\n",
      "           0       1.00      1.00      1.00    209189\n",
      "           1       1.00      1.00      1.00       811\n",
      "\n",
      "    accuracy                           1.00    210000\n",
      "   macro avg       1.00      1.00      1.00    210000\n",
      "weighted avg       1.00      1.00      1.00    210000\n",
      "\n"
     ]
    }
   ],
   "source": [
    "from sklearn.metrics import classification_report\n",
    "print(classification_report(y_test_210, RFC_PRED))"
   ]
  },
  {
   "cell_type": "code",
   "execution_count": 17,
   "metadata": {
    "scrolled": true
   },
   "outputs": [
    {
     "data": {
      "image/png": "[encoded data removed]",
      "text/plain": [
       "<Figure size 360x360 with 2 Axes>"
      ]
     },
     "metadata": {
      "needs_background": "light"
     },
     "output_type": "display_data"
    }
   ],
   "source": [
    "utils.plot_cm(y_test_210, RFC_PRED)"
   ]
  },
  {
   "cell_type": "code",
   "execution_count": 18,
   "metadata": {},
   "outputs": [
    {
     "data": {
      "text/plain": [
       "['RF.joblib']"
      ]
     },
     "execution_count": 18,
     "metadata": {},
     "output_type": "execute_result"
    }
   ],
   "source": [
    "import joblib \n",
    "joblib.dump(RF_500, 'RF.joblib') # Guardo el modelo."
   ]
  },
  {
   "cell_type": "code",
   "execution_count": 19,
   "metadata": {},
   "outputs": [],
   "source": [
    "#ALTA MODELO Y TESTS\n",
    "RF_ALTA = joblib.load('RF.joblib')\n",
    "\n",
    "RF_predictions_120 = RF_ALTA.predict(X_test_120)\n",
    "RF_predictions_90 = RF_ALTA.predict(X_test_90)\n",
    "RF_predictions_32 = RF_ALTA.predict(X_test_32)"
   ]
  },
  {
   "cell_type": "code",
   "execution_count": 20,
   "metadata": {},
   "outputs": [
    {
     "name": "stdout",
     "output_type": "stream",
     "text": [
      "              precision    recall  f1-score   support\n",
      "\n",
      "           0       1.00      1.00      1.00    119545\n",
      "           1       1.00      1.00      1.00       455\n",
      "\n",
      "    accuracy                           1.00    120000\n",
      "   macro avg       1.00      1.00      1.00    120000\n",
      "weighted avg       1.00      1.00      1.00    120000\n",
      "\n",
      "              precision    recall  f1-score   support\n",
      "\n",
      "           0       1.00      1.00      1.00     89650\n",
      "           1       1.00      1.00      1.00       350\n",
      "\n",
      "    accuracy                           1.00     90000\n",
      "   macro avg       1.00      1.00      1.00     90000\n",
      "weighted avg       1.00      1.00      1.00     90000\n",
      "\n",
      "              precision    recall  f1-score   support\n",
      "\n",
      "           0       1.00      1.00      1.00     31887\n",
      "           1       1.00      1.00      1.00       113\n",
      "\n",
      "    accuracy                           1.00     32000\n",
      "   macro avg       1.00      1.00      1.00     32000\n",
      "weighted avg       1.00      1.00      1.00     32000\n",
      "\n"
     ]
    }
   ],
   "source": [
    "print(classification_report(y_test_120, RF_predictions_120))\n",
    "print(classification_report(y_test_90, RF_predictions_90))\n",
    "print(classification_report(y_test_32, RF_predictions_32))"
   ]
  },
  {
   "cell_type": "code",
   "execution_count": 21,
   "metadata": {},
   "outputs": [
    {
     "data": {
      "image/png": "[encoded data removed]",
      "text/plain": [
       "<Figure size 360x360 with 2 Axes>"
      ]
     },
     "metadata": {
      "needs_background": "light"
     },
     "output_type": "display_data"
    },
    {
     "data": {
      "image/png": "[encoded data removed]",
      "text/plain": [
       "<Figure size 360x360 with 2 Axes>"
      ]
     },
     "metadata": {
      "needs_background": "light"
     },
     "output_type": "display_data"
    },
    {
     "data": {
      "image/png": "[encoded data removed]",
      "text/plain": [
       "<Figure size 360x360 with 2 Axes>"
      ]
     },
     "metadata": {
      "needs_background": "light"
     },
     "output_type": "display_data"
    }
   ],
   "source": [
    "utils.plot_cm(y_test_120, RF_predictions_120)\n",
    "utils.plot_cm(y_test_90, RF_predictions_90)\n",
    "utils.plot_cm(y_test_32, RF_predictions_32)"
   ]
  }
 ],
 "metadata": {
  "colab": {
   "collapsed_sections": [],
   "name": "Tesis_de_Maestría_FINAL_2-checkpoint.ipynb",
   "provenance": []
  },
  "kernelspec": {
   "display_name": "Python 3",
   "language": "python",
   "name": "python3"
  },
  "language_info": {
   "codemirror_mode": {
    "name": "ipython",
    "version": 3
   },
   "file_extension": ".py",
   "mimetype": "text/x-python",
   "name": "python",
   "nbconvert_exporter": "python",
   "pygments_lexer": "ipython3",
   "version": "3.7.3"
  }
 },
 "nbformat": 4,
 "nbformat_minor": 1
}
